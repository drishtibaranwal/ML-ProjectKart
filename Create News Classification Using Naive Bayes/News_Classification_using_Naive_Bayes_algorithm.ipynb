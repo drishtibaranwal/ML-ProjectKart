{
  "nbformat": 4,
  "nbformat_minor": 0,
  "metadata": {
    "colab": {
      "name": "News Classification using Naive Bayes algorithm",
      "provenance": [],
      "authorship_tag": "ABX9TyNbTSzjnDxM6mRfvLhn3wRp",
      "include_colab_link": true
    },
    "kernelspec": {
      "name": "python3",
      "display_name": "Python 3"
    },
    "language_info": {
      "name": "python"
    }
  },
  "cells": [
    {
      "cell_type": "markdown",
      "metadata": {
        "id": "view-in-github",
        "colab_type": "text"
      },
      "source": [
        "<a href=\"https://colab.research.google.com/github/drishtibaranwal/ML-ProjectKart/blob/add-license-1/Create%20News%20Classification%20Using%20Naive%20Bayes/News_Classification_using_Naive_Bayes_algorithm.ipynb\" target=\"_parent\"><img src=\"https://colab.research.google.com/assets/colab-badge.svg\" alt=\"Open In Colab\"/></a>"
      ]
    },
    {
      "cell_type": "code",
      "metadata": {
        "id": "k6chvGspVfiN"
      },
      "source": [
        "# NEWS CLASSIFICATION Using Naive Bayes algorithm "
      ],
      "execution_count": null,
      "outputs": []
    },
    {
      "cell_type": "code",
      "metadata": {
        "id": "yRXVTrgsxSgS"
      },
      "source": [
        "#Loading the required libraries\n",
        "%matplotlib inline\n",
        "import numpy as np\n",
        "import matplotlib.pyplot as plt\n",
        "import seaborn as sns; sns.set()\n",
        "from sklearn.datasets import fetch_20newsgroups\n",
        "data=fetch_20newsgroups"
      ],
      "execution_count": null,
      "outputs": []
    },
    {
      "cell_type": "code",
      "metadata": {
        "id": "HWF0Aw7ufQfu"
      },
      "source": [
        "# DEfining categories\n",
        "categories= ['alt.atheism','comp.graphics',\n",
        "'comp.os.ms-windows.misc',\n",
        "'comp.sys.ibm.pc.hardware',\n",
        "'comp.sys.mac.hardware',\n",
        "'comp.windows.x','misc.forsale',\n",
        "'rec.autos',  'rec.motorcycles',\n",
        "'rec.sport.baseball',\n",
        "'rec.sport.hockey', 'sci.crypt',\n",
        "'sci.electronics',\n",
        "'sci.med',\n",
        "'sci.space','soc.religion.christian',\n",
        " 'talk.politics.guns',\n",
        "'talk.politics.mideast',\n",
        "'talk.politics.misc', 'talk.religion.misc'\n",
        "]\n"
      ],
      "execution_count": null,
      "outputs": []
    },
    {
      "cell_type": "code",
      "metadata": {
        "id": "JnLWLka27C8d",
        "colab": {
          "base_uri": "https://localhost:8080/"
        },
        "outputId": "261d3537-ecc6-43f5-d8c1-f14e2cebf49b"
      },
      "source": [
        "#Training the data on these categories\n",
        "train= fetch_20newsgroups(subset='train', categories=categories)"
      ],
      "execution_count": null,
      "outputs": [
        {
          "output_type": "stream",
          "text": [
            "Downloading 20news dataset. This may take a few minutes.\n",
            "Downloading dataset from https://ndownloader.figshare.com/files/5975967 (14 MB)\n"
          ],
          "name": "stderr"
        }
      ]
    },
    {
      "cell_type": "code",
      "metadata": {
        "id": "K5f_Z-sW_22p"
      },
      "source": [
        "#testing the data on these categories\n",
        "test=fetch_20newsgroups(subset='test', categories=categories)\n"
      ],
      "execution_count": null,
      "outputs": []
    },
    {
      "cell_type": "code",
      "metadata": {
        "colab": {
          "base_uri": "https://localhost:8080/"
        },
        "id": "H4FXozvEAZBK",
        "outputId": "69b70710-1b8b-46a0-9e2d-f6416b0f5a04"
      },
      "source": [
        "# Printing training data\n",
        "print(train.data[5])"
      ],
      "execution_count": null,
      "outputs": [
        {
          "output_type": "stream",
          "text": [
            "From: dfo@vttoulu.tko.vtt.fi (Foxvog Douglas)\n",
            "Subject: Re: Rewording the Second Amendment (ideas)\n",
            "Organization: VTT\n",
            "Lines: 58\n",
            "\n",
            "In article <1r1eu1$4t@transfer.stratus.com> cdt@sw.stratus.com (C. D. Tavares) writes:\n",
            ">In article <1993Apr20.083057.16899@ousrvr.oulu.fi>, dfo@vttoulu.tko.vtt.fi (Foxvog Douglas) writes:\n",
            ">> In article <1qv87v$4j3@transfer.stratus.com> cdt@sw.stratus.com (C. D. Tavares) writes:\n",
            ">> >In article <C5n3GI.F8F@ulowell.ulowell.edu>, jrutledg@cs.ulowell.edu (John Lawrence Rutledge) writes:\n",
            ">\n",
            ">> >> The massive destructive power of many modern weapons, makes the\n",
            ">> >> cost of an accidental or crimial usage of these weapons to great.\n",
            ">> >> The weapons of mass destruction need to be in the control of\n",
            ">> >> the government only.  Individual access would result in the\n",
            ">> >> needless deaths of millions.  This makes the right of the people\n",
            ">> >> to keep and bear many modern weapons non-existant.\n",
            "\n",
            ">> >Thanks for stating where you're coming from.  Needless to say, I\n",
            ">> >disagree on every count.\n",
            "\n",
            ">> You believe that individuals should have the right to own weapons of\n",
            ">> mass destruction?  I find it hard to believe that you would support a \n",
            ">> neighbor's right to keep nuclear weapons, biological weapons, and nerve\n",
            ">> gas on his/her property.  \n",
            "\n",
            ">> If we cannot even agree on keeping weapons of mass destruction out of\n",
            ">> the hands of individuals, can there be any hope for us?\n",
            "\n",
            ">I don't sign any blank checks.\n",
            "\n",
            "Of course.  The term must be rigidly defined in any bill.\n",
            "\n",
            ">When Doug Foxvog says \"weapons of mass destruction,\" he means CBW and\n",
            ">nukes.  When Sarah Brady says \"weapons of mass destruction\" she means\n",
            ">Street Sweeper shotguns and semi-automatic SKS rifles.  \n",
            "\n",
            "I doubt she uses this term for that.  You are using a quote allegedly\n",
            "from her, can you back it up?\n",
            "\n",
            ">When John\n",
            ">Lawrence Rutledge says \"weapons of mass destruction,\" and then immediately\n",
            ">follows it with:\n",
            "\n",
            ">>> The US has thousands of people killed each year by handguns,\n",
            ">>> this number can easily be reduced by putting reasonable restrictions\n",
            ">>> on them.\n",
            "\n",
            ">...what does Rutledge mean by the term?\n",
            "\n",
            "I read the article as presenting first an argument about weapons of mass\n",
            "destruction (as commonly understood) and then switching to other topics.\n",
            "The first point evidently was to show that not all weapons should be\n",
            "allowed, and then the later analysis was, given this understanding, to\n",
            "consider another class.\n",
            "\n",
            ">cdt@rocket.sw.stratus.com   --If you believe that I speak for my company,\n",
            ">OR cdt@vos.stratus.com        write today for my special Investors' Packet...\n",
            "\n",
            "\n",
            "\n",
            "-- \n",
            "doug foxvog\n",
            "douglas.foxvog@vtt.fi\n",
            "\n"
          ],
          "name": "stdout"
        }
      ]
    },
    {
      "cell_type": "code",
      "metadata": {
        "colab": {
          "base_uri": "https://localhost:8080/"
        },
        "id": "Q63-dPWpAbnE",
        "outputId": "5b372d73-ab9f-4266-9310-edaa1e0c0946"
      },
      "source": [
        "# Printing testing data\n",
        "print(test.data[5])"
      ],
      "execution_count": null,
      "outputs": [
        {
          "output_type": "stream",
          "text": [
            "From: banschbach@vms.ocom.okstate.edu\n",
            "Subject: Re: Candida(yeast) Bloom, Fact or Fiction\n",
            "Organization: OSU College of Osteopathic Medicine\n",
            "Lines: 91\n",
            "Nntp-Posting-Host: vms.ocom.okstate.edu\n",
            "\n",
            "In article <1rp8p1$2d3@usenet.INS.CWRU.Edu>, esd3@po.CWRU.Edu (Elisabeth S. Davidson) writes:\n",
            "> \n",
            "> In a previous article, banschbach@vms.ocom.okstate.edu () says:\n",
            ">>least a few \"enlightened\" physicians practicing in the U.S.  It's really \n",
            ">>too bad that most U.S. medical schools don't cover nutrition because if \n",
            ">>they did, candida would not be viewed as a non-disease by so many in the \n",
            ">>medical profession.\n",
            "> \n",
            "> Case Western Reserve Med School teaches nutrition in its own section as\n",
            "> well as covering it in other sections as they apply (i.e. B12\n",
            "> deficiency in neuro as a cause of neuropathy, B12 deficiency in\n",
            "> hematology as a cause of megaloblastic anemia), yet I sill\n",
            "> hold the viewpoint of mainstream medicine:  candida can cause\n",
            "> mucocutaneous candidiasis, and, in already very sick patients\n",
            "> with damaged immune systems like AIDS and cancer patients,\n",
            "> systemic candida infection.  I think \"The Yeast Connection\" is\n",
            "> a bunch of hooey.  What does this have to do with how well\n",
            "> nutrition is taught, anyway?\n",
            "\n",
            "Elisabeth, let's set the record straight for the nth time, I have not read \n",
            "\"The Yeast Connection\".  So anything that I say is not due to brainwashing \n",
            "by this \"hated\" book.  It's okay I guess to hate the book, by why hate me?\n",
            "Elisabeth, I'm going to quote from Zinsser's Microbiology, 20th Edition.\n",
            "A book that you should be familiar with and not \"hate\". \"Candida species \n",
            "colonize the mucosal surfaces of all humans during birth or shortly \n",
            "thereafter.  The risk of endogenous infection is clearly ever present.  \n",
            "Indeed, candidiasis occurs worldwide and is the most common systemic \n",
            "mycosis.\"  Neutrophils play the main role in preventing a systemic \n",
            "infection(candidiasis) so you would have to have a low neutrophil count or \n",
            "\"sick\" neutrophils to see a systemic infection.  Poor diet and persistent \n",
            "parasitic infestation set many third world residents up for candidiasis.\n",
            "Your assessment of candidiasis in the U.S. is correct and I do not dispute \n",
            "it.\n",
            "\n",
            "What I posted was a discussion of candida blooms, without systemic \n",
            "infection.  These blooms would be responsible for local sites of irritation\n",
            "(GI tract, mouth, vagina and sinus cavity).  Knocking down the bacterial \n",
            "competition for candida was proposed as a possible trigger for candida \n",
            "blooms.  Let me quote from Zinsser's again: \"However, some factors, such as \n",
            "the use of a broad-spectrum antibacterial antibiotic, may predispose to \n",
            "both mucosal and systemic infections\".  I was addressing mucosal infections\n",
            "(I like the term blooms better).  The nutrition course that I teach covers \n",
            "this effect of antibiotic treatment as well as the \"cure\".  I guess that \n",
            "your nutrition course does not, too bad.  \n",
            "\n",
            "\n",
            ">>Here is a brief primer on yeast.  Yeast infections, as they are commonly \n",
            ">>called, are not truely caused by yeasts.  The most common organism responsible\n",
            ">>for this type of infection is Candida albicans or Monilia which is actually a \n",
            ">>yeast-like fungus.  \n",
            "> \n",
            "> Well, maybe I'm getting picky, but I always thought that a yeast\n",
            "> was one form that a fungus could exist in, the other being the\n",
            "> mold form.  Many fungi can occur as either yeasts or molds, \n",
            "> depending on environment.  Candida exibits what is known as\n",
            "> reverse dimorphism - it exists as a mold in the tissues\n",
            "> but exists as a yeast in the environment.  Should we maybe\n",
            "> call it a mold infection?  a fungus infection?  Maybe we\n",
            "> should say it is caused by a mold-like fungus.\n",
            ">  \n",
            ">> \n",
            ">>Martin Banschbach, Ph.D.\n",
            ">>Professor of Biochemistry and Chairman\n",
            ">>Department of Biochemistry and Microbiology\n",
            ">>OSU College of Osteopathic Medicine\n",
            ">>1111 West 17th St.\n",
            ">>Tulsa, Ok. 74107\n",
            ">>\n",
            "> \n",
            "> You're the chairman of Biochem and Micro and you didn't know \n",
            "> that a yeast is a form of a fungus?  (shudder)\n",
            "> Or maybe you did know, and were oversimplifying?\n",
            "\n",
            "My, my Elisabeth, do I detect a little of Steve Dyer in you?  If you \n",
            "noticed my faculty rank, I'm a biochemist, not a microbiologist.\n",
            "Candida is classifed as a fungus(according to Zinsser's).  But, as you point \n",
            "out, it displays dimorphism.  It is capable of producing yeast cells, \n",
            "pseudohyphae and true hyphae.  Elisabeth, you are probably a microbiologist \n",
            "and that makes a lot of sense to you.  To a biochemist, it's a lot of \n",
            "Greek.  So I called it a yeast-like fungus, go ahead and crucify me.\n",
            "\n",
            "You know Elisabeth, I still haven't been able to figure out why such a small \n",
            "little organism like Candida can bring out so much hostility in people in \n",
            "Sci. Med.  And I must admitt that I got sucked into the mud slinging too.\n",
            "I keep hoping that if people will just take the time to think about what \n",
            "I've said, that it will make sense.  I'm not asking anyone here to buy into \n",
            "\"The Yeast Connection\" book because I don't know what's in that book, plain \n",
            "and simple. And to be honest with you, I'm beginning to wish that it was never \n",
            "written.\n",
            "\n",
            "Marty B.\n",
            "\n"
          ],
          "name": "stdout"
        }
      ]
    },
    {
      "cell_type": "code",
      "metadata": {
        "colab": {
          "base_uri": "https://localhost:8080/"
        },
        "id": "Tp87ZShnA_1t",
        "outputId": "a6697957-751f-463e-e7d5-58c3e93c1de7"
      },
      "source": [
        "# printimg length of traing data\n",
        "print(len(train.data))"
      ],
      "execution_count": null,
      "outputs": [
        {
          "output_type": "stream",
          "text": [
            "11314\n"
          ],
          "name": "stdout"
        }
      ]
    },
    {
      "cell_type": "code",
      "metadata": {
        "id": "PgooIVwbBIDQ"
      },
      "source": [
        "# Importing neccesary packages\n",
        "\n",
        "from sklearn.feature_extraction.text import TfidfVectorizer\n",
        "from sklearn.naive_bayes import MultinomialNB\n",
        "from sklearn.pipeline import make_pipeline\n",
        "\n",
        "# Creating model based on multinomial Naive Bayes\n",
        "model=make_pipeline(TfidfVectorizer(),MultinomialNB())\n",
        "\n",
        "# Traioning the model with the train data\n",
        "model.fit(train.data, train.target)\n",
        "\n",
        "\n",
        "# Create labels for test data\n",
        "labels=model.predict(test.data)"
      ],
      "execution_count": null,
      "outputs": []
    },
    {
      "cell_type": "code",
      "metadata": {
        "id": "Y5nymaLwEXld"
      },
      "source": [
        "# Predicting category of new data based on trained model \n",
        "\n",
        "def predict_category(s,train=train,model=model):\n",
        "  pred=model.predict([s])\n",
        "  return train.target_names[pred[0]]"
      ],
      "execution_count": null,
      "outputs": []
    },
    {
      "cell_type": "code",
      "metadata": {
        "id": "8u4mRxMFxP8g"
      },
      "source": [
        ""
      ],
      "execution_count": null,
      "outputs": []
    },
    {
      "cell_type": "code",
      "metadata": {
        "colab": {
          "base_uri": "https://localhost:8080/",
          "height": 35
        },
        "id": "LtuzGJVeFhUg",
        "outputId": "778dc6ed-00b3-4e9b-ecb6-e1a1060333b7"
      },
      "source": [
        "# Use Case \n",
        "# We are able to predict the accurate category of the news \n",
        "\n",
        "predict_category('Jesus Christ was great')"
      ],
      "execution_count": null,
      "outputs": [
        {
          "output_type": "execute_result",
          "data": {
            "application/vnd.google.colaboratory.intrinsic+json": {
              "type": "string"
            },
            "text/plain": [
              "'soc.religion.christian'"
            ]
          },
          "metadata": {
            "tags": []
          },
          "execution_count": 10
        }
      ]
    },
    {
      "cell_type": "code",
      "metadata": {
        "colab": {
          "base_uri": "https://localhost:8080/",
          "height": 35
        },
        "id": "3Z6y4Xi5GVUI",
        "outputId": "2b65e27e-45e7-4cd1-bb21-cb5c68707c64"
      },
      "source": [
        "predict_category('Sending load to international space Station')"
      ],
      "execution_count": null,
      "outputs": [
        {
          "output_type": "execute_result",
          "data": {
            "application/vnd.google.colaboratory.intrinsic+json": {
              "type": "string"
            },
            "text/plain": [
              "'sci.space'"
            ]
          },
          "metadata": {
            "tags": []
          },
          "execution_count": 11
        }
      ]
    },
    {
      "cell_type": "code",
      "metadata": {
        "colab": {
          "base_uri": "https://localhost:8080/",
          "height": 35
        },
        "id": "cBAHefTFGxss",
        "outputId": "e641c789-9cdb-4b8a-8be5-2c6c08a40a0d"
      },
      "source": [
        "predict_category('BMW is better than Audi')"
      ],
      "execution_count": null,
      "outputs": [
        {
          "output_type": "execute_result",
          "data": {
            "application/vnd.google.colaboratory.intrinsic+json": {
              "type": "string"
            },
            "text/plain": [
              "'rec.autos'"
            ]
          },
          "metadata": {
            "tags": []
          },
          "execution_count": 12
        }
      ]
    },
    {
      "cell_type": "code",
      "metadata": {
        "colab": {
          "base_uri": "https://localhost:8080/",
          "height": 35
        },
        "id": "LcMVPUjbG9ko",
        "outputId": "00261bd9-0668-488f-be57-77480f380c9a"
      },
      "source": [
        "predict_category('President of India ')"
      ],
      "execution_count": null,
      "outputs": [
        {
          "output_type": "execute_result",
          "data": {
            "application/vnd.google.colaboratory.intrinsic+json": {
              "type": "string"
            },
            "text/plain": [
              "'talk.politics.misc'"
            ]
          },
          "metadata": {
            "tags": []
          },
          "execution_count": 13
        }
      ]
    }
  ]
}